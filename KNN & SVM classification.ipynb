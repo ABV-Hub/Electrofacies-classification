{
 "cells": [
  {
   "cell_type": "code",
   "execution_count": 1,
   "metadata": {},
   "outputs": [],
   "source": [
    "import pandas as pd\n",
    "import numpy as np\n",
    "import matplotlib.pyplot as plt"
   ]
  },
  {
   "cell_type": "code",
   "execution_count": 2,
   "metadata": {},
   "outputs": [
    {
     "name": "stdout",
     "output_type": "stream",
     "text": [
      "<class 'pandas.core.frame.DataFrame'>\n",
      "RangeIndex: 2460 entries, 0 to 2459\n",
      "Data columns (total 19 columns):\n",
      "Well           2460 non-null object\n",
      "Depth          2460 non-null float64\n",
      "GR             2460 non-null float64\n",
      "NPHI           2460 non-null float64\n",
      "RHOB           2460 non-null float64\n",
      "PEF            2460 non-null float64\n",
      "DT             2460 non-null float64\n",
      "RD_LOG         2460 non-null float64\n",
      "VSH            2460 non-null float64\n",
      "SW             2460 non-null float64\n",
      "KLOGH          2460 non-null float64\n",
      "PHIF           2460 non-null float64\n",
      "PHID           2460 non-null float64\n",
      "N-D            2460 non-null float64\n",
      "Cluster_all    2460 non-null int64\n",
      "PCA_1          2460 non-null float64\n",
      "PCA_2          2460 non-null float64\n",
      "Id_discreto    2460 non-null int64\n",
      "Lithofacies    2460 non-null object\n",
      "dtypes: float64(15), int64(2), object(2)\n",
      "memory usage: 365.3+ KB\n"
     ]
    }
   ],
   "source": [
    "df_input = pd.read_csv('Results.csv', sep=';')\n",
    "df_input = df_input.replace(-999.0000, np.NaN)\n",
    "df_input.dropna()\n",
    "df_input.info()"
   ]
  },
  {
   "cell_type": "markdown",
   "metadata": {},
   "source": [
    "##  Splitting & Standarizing data "
   ]
  },
  {
   "cell_type": "code",
   "execution_count": 3,
   "metadata": {},
   "outputs": [
    {
     "name": "stdout",
     "output_type": "stream",
     "text": [
      "<class 'pandas.core.frame.DataFrame'>\n",
      "RangeIndex: 2460 entries, 0 to 2459\n",
      "Data columns (total 3 columns):\n",
      "Cluster_all    2460 non-null int64\n",
      "PCA_1          2460 non-null float64\n",
      "PCA_2          2460 non-null float64\n",
      "dtypes: float64(2), int64(1)\n",
      "memory usage: 57.8 KB\n"
     ]
    }
   ],
   "source": [
    "X = df_input.iloc[:, [14, 15, 16]]\n",
    "Y = df_input.iloc[:, -2]\n",
    "X.info()"
   ]
  },
  {
   "cell_type": "code",
   "execution_count": 4,
   "metadata": {},
   "outputs": [
    {
     "data": {
      "text/plain": [
       "1    566\n",
       "2      6\n",
       "3    601\n",
       "4    471\n",
       "5     55\n",
       "6    200\n",
       "7     28\n",
       "8     41\n",
       "Name: Id_discreto, dtype: int64"
      ]
     },
     "execution_count": 4,
     "metadata": {},
     "output_type": "execute_result"
    }
   ],
   "source": [
    "# Train & Test Split\n",
    "from sklearn.model_selection import train_test_split\n",
    "from sklearn.preprocessing import StandardScaler\n",
    "X_train, X_test, Y_train, Y_test = train_test_split(X, Y, test_size = 0.20, random_state = 1)\n",
    "\n",
    "scaler = StandardScaler()\n",
    "scaler.fit(X_train)\n",
    "X_train = scaler.transform(X_train)\n",
    "X_test = scaler.transform(X_test)\n",
    "Y_train.value_counts().sort_index()"
   ]
  },
  {
   "cell_type": "markdown",
   "metadata": {},
   "source": [
    "## Tunning Parameters for KNN"
   ]
  },
  {
   "cell_type": "code",
   "execution_count": 5,
   "metadata": {},
   "outputs": [],
   "source": [
    "from sklearn.model_selection import GridSearchCV\n",
    "from sklearn.neighbors import KNeighborsClassifier"
   ]
  },
  {
   "cell_type": "code",
   "execution_count": 6,
   "metadata": {},
   "outputs": [
    {
     "name": "stderr",
     "output_type": "stream",
     "text": [
      "/Users/Julio/opt/anaconda3/lib/python3.7/site-packages/sklearn/model_selection/_split.py:667: UserWarning: The least populated class in y has only 6 members, which is less than n_splits=10.\n",
      "  % (min_groups, self.n_splits)), UserWarning)\n"
     ]
    },
    {
     "name": "stdout",
     "output_type": "stream",
     "text": [
      "Best leaf_size: 1\n",
      "Best p: 1\n",
      "Best k: 5\n"
     ]
    }
   ],
   "source": [
    "leaf_size = list(range(1,50))\n",
    "p=[1,2]\n",
    "k_neighbors = [1,3,5,7,9,11]\n",
    "\n",
    "hyperparameters = dict(leaf_size = leaf_size, p = p, n_neighbors = k_neighbors)\n",
    "knn_2 = KNeighborsClassifier()\n",
    "\n",
    "clf = GridSearchCV(knn_2, hyperparameters, cv=10)\n",
    "\n",
    "best_model = clf.fit(X_train,Y_train)\n",
    "\n",
    "print('Best leaf_size:', best_model.best_estimator_.get_params()['leaf_size'])\n",
    "print('Best p:', best_model.best_estimator_.get_params()['p'])\n",
    "print('Best k:', best_model.best_estimator_.get_params()['n_neighbors'])"
   ]
  },
  {
   "cell_type": "markdown",
   "metadata": {},
   "source": [
    "## Applying KNN algorithm"
   ]
  },
  {
   "cell_type": "code",
   "execution_count": 7,
   "metadata": {},
   "outputs": [],
   "source": [
    "# Training & predicting\n",
    "knnmodel = KNeighborsClassifier(n_neighbors = 5, leaf_size =1, p=2, weights= 'uniform' )\n",
    "knnmodel.fit(X_train, Y_train)\n",
    "Y_predict1 = knnmodel.predict(X_test)"
   ]
  },
  {
   "cell_type": "code",
   "execution_count": 8,
   "metadata": {},
   "outputs": [
    {
     "name": "stdout",
     "output_type": "stream",
     "text": [
      "Accuracy: 89.2276 %\n"
     ]
    }
   ],
   "source": [
    "# Accuracy KNN\n",
    "from sklearn.metrics import accuracy_score\n",
    "from sklearn.metrics import classification_report\n",
    "acc_knn = accuracy_score(Y_test, Y_predict1)\n",
    "print('Accuracy:', round(acc_knn*100, 4) ,\"%\")"
   ]
  },
  {
   "cell_type": "code",
   "execution_count": 9,
   "metadata": {},
   "outputs": [
    {
     "data": {
      "image/png": "[encoded data removed]",
      "text/plain": [
       "<Figure size 576x576 with 2 Axes>"
      ]
     },
     "metadata": {
      "needs_background": "light"
     },
     "output_type": "display_data"
    }
   ],
   "source": [
    "# Confusion Matrix\n",
    "from sklearn.metrics import confusion_matrix\n",
    "from sklearn.metrics import plot_confusion_matrix\n",
    "import seaborn as sb\n",
    "labels = np.unique(Y_test)\n",
    "cm = confusion_matrix(Y_test.values, Y_predict1, labels = labels)\n",
    "cm_knn =pd.DataFrame(cm, index = labels, columns = labels)\n",
    "\n",
    "fig, ax =plt.subplots(figsize=(8,8))\n",
    "plt.rcParams.update({'font.size': 14})\n",
    "ax = sb.heatmap(cm_knn, fmt='d', annot=True, cmap= 'Blues', linewidths=.5, \\\n",
    "                cbar_kws={'label': 'Colorbar', 'orientation': 'horizontal'})\n",
    "ax.figure.axes[-1].xaxis.label.set_size(14)\n",
    "bottom, top = ax.get_ylim()\n",
    "ax.set_ylim(bottom + 0.5, top - 0.5)\n",
    "plt.xlabel(\"Facies Input\",  fontsize=14)\n",
    "plt.ylabel(\"Facies Predicted KNN\",  fontsize=14)\n",
    "plt.title('Confusion Matrix - KNN Model', fontsize=14)\n",
    "plt.show()"
   ]
  },
  {
   "cell_type": "markdown",
   "metadata": {},
   "source": [
    "### Threshold metrcis for model performance"
   ]
  },
  {
   "cell_type": "code",
   "execution_count": 10,
   "metadata": {},
   "outputs": [
    {
     "data": {
      "text/html": [
       "<div>\n",
       "<style scoped>\n",
       "    .dataframe tbody tr th:only-of-type {\n",
       "        vertical-align: middle;\n",
       "    }\n",
       "\n",
       "    .dataframe tbody tr th {\n",
       "        vertical-align: top;\n",
       "    }\n",
       "\n",
       "    .dataframe thead th {\n",
       "        text-align: right;\n",
       "    }\n",
       "</style>\n",
       "<table border=\"1\" class=\"dataframe\">\n",
       "  <thead>\n",
       "    <tr style=\"text-align: right;\">\n",
       "      <th></th>\n",
       "      <th>precision</th>\n",
       "      <th>recall</th>\n",
       "      <th>f1-score</th>\n",
       "      <th>support</th>\n",
       "    </tr>\n",
       "  </thead>\n",
       "  <tbody>\n",
       "    <tr>\n",
       "      <td>1</td>\n",
       "      <td>0.860140</td>\n",
       "      <td>0.976190</td>\n",
       "      <td>0.914498</td>\n",
       "      <td>126.000000</td>\n",
       "    </tr>\n",
       "    <tr>\n",
       "      <td>2</td>\n",
       "      <td>0.000000</td>\n",
       "      <td>0.000000</td>\n",
       "      <td>0.000000</td>\n",
       "      <td>2.000000</td>\n",
       "    </tr>\n",
       "    <tr>\n",
       "      <td>3</td>\n",
       "      <td>0.946309</td>\n",
       "      <td>0.965753</td>\n",
       "      <td>0.955932</td>\n",
       "      <td>146.000000</td>\n",
       "    </tr>\n",
       "    <tr>\n",
       "      <td>4</td>\n",
       "      <td>0.926230</td>\n",
       "      <td>0.911290</td>\n",
       "      <td>0.918699</td>\n",
       "      <td>124.000000</td>\n",
       "    </tr>\n",
       "    <tr>\n",
       "      <td>5</td>\n",
       "      <td>0.727273</td>\n",
       "      <td>0.533333</td>\n",
       "      <td>0.615385</td>\n",
       "      <td>15.000000</td>\n",
       "    </tr>\n",
       "    <tr>\n",
       "      <td>6</td>\n",
       "      <td>0.857143</td>\n",
       "      <td>0.711864</td>\n",
       "      <td>0.777778</td>\n",
       "      <td>59.000000</td>\n",
       "    </tr>\n",
       "    <tr>\n",
       "      <td>7</td>\n",
       "      <td>1.000000</td>\n",
       "      <td>0.666667</td>\n",
       "      <td>0.800000</td>\n",
       "      <td>6.000000</td>\n",
       "    </tr>\n",
       "    <tr>\n",
       "      <td>8</td>\n",
       "      <td>0.615385</td>\n",
       "      <td>0.571429</td>\n",
       "      <td>0.592593</td>\n",
       "      <td>14.000000</td>\n",
       "    </tr>\n",
       "    <tr>\n",
       "      <td>accuracy</td>\n",
       "      <td>0.892276</td>\n",
       "      <td>0.892276</td>\n",
       "      <td>0.892276</td>\n",
       "      <td>0.892276</td>\n",
       "    </tr>\n",
       "    <tr>\n",
       "      <td>macro avg</td>\n",
       "      <td>0.741560</td>\n",
       "      <td>0.667066</td>\n",
       "      <td>0.696861</td>\n",
       "      <td>492.000000</td>\n",
       "    </tr>\n",
       "    <tr>\n",
       "      <td>weighted avg</td>\n",
       "      <td>0.889201</td>\n",
       "      <td>0.892276</td>\n",
       "      <td>0.888064</td>\n",
       "      <td>492.000000</td>\n",
       "    </tr>\n",
       "  </tbody>\n",
       "</table>\n",
       "</div>"
      ],
      "text/plain": [
       "              precision    recall  f1-score     support\n",
       "1              0.860140  0.976190  0.914498  126.000000\n",
       "2              0.000000  0.000000  0.000000    2.000000\n",
       "3              0.946309  0.965753  0.955932  146.000000\n",
       "4              0.926230  0.911290  0.918699  124.000000\n",
       "5              0.727273  0.533333  0.615385   15.000000\n",
       "6              0.857143  0.711864  0.777778   59.000000\n",
       "7              1.000000  0.666667  0.800000    6.000000\n",
       "8              0.615385  0.571429  0.592593   14.000000\n",
       "accuracy       0.892276  0.892276  0.892276    0.892276\n",
       "macro avg      0.741560  0.667066  0.696861  492.000000\n",
       "weighted avg   0.889201  0.892276  0.888064  492.000000"
      ]
     },
     "execution_count": 10,
     "metadata": {},
     "output_type": "execute_result"
    }
   ],
   "source": [
    "Thm_single_knn = classification_report(Y_test.values, Y_predict1 , output_dict=True)\n",
    "df_Thm_knn = pd.DataFrame(Thm_single_knn).transpose()\n",
    "df_Thm_knn"
   ]
  },
  {
   "cell_type": "markdown",
   "metadata": {},
   "source": [
    "## Tunning Parameters for SVM"
   ]
  },
  {
   "cell_type": "code",
   "execution_count": 11,
   "metadata": {},
   "outputs": [],
   "source": [
    "from sklearn.svm import SVC\n",
    "from sklearn.model_selection import GridSearchCV"
   ]
  },
  {
   "cell_type": "code",
   "execution_count": null,
   "metadata": {},
   "outputs": [],
   "source": [
    " \n",
    "Cs = [0.001, 0.01, 0.1, 1, 10, 100]\n",
    "gammas = [0.001, 0.01, 0.1, 1]\n",
    "kernels = ['rbf', 'poly', 'sigmoid']\n",
    "param_grid = {'C': Cs, 'gamma': gammas, 'kernel': kernels}\n",
    "\n",
    "svc_2 = SVC()\n",
    "grid = GridSearchCV(svc_2, param_grid, cv=10, refit = True, verbose=2)\n",
    "grid.fit(X_train,Y_train)"
   ]
  },
  {
   "cell_type": "code",
   "execution_count": null,
   "metadata": {},
   "outputs": [],
   "source": [
    "print(grid.best_estimator_)"
   ]
  },
  {
   "cell_type": "markdown",
   "metadata": {},
   "source": [
    "## Applying SVM algorithm"
   ]
  },
  {
   "cell_type": "code",
   "execution_count": 12,
   "metadata": {},
   "outputs": [
    {
     "name": "stdout",
     "output_type": "stream",
     "text": [
      "Accuracy: 90.2439 %\n"
     ]
    }
   ],
   "source": [
    "svcmodel = SVC(gamma = 0.1, C = 100, kernel='rbf', random_state = None, shrinking = True, \\\n",
    "              decision_function_shape = 'ovo')\n",
    "svcmodel.fit(X_train, Y_train)\n",
    "Y_predict2 = svcmodel.predict(X_test)\n",
    "acc_svc = accuracy_score(Y_test, Y_predict2)\n",
    "print('Accuracy:', round(acc_svc*100, 4), '%')"
   ]
  },
  {
   "cell_type": "code",
   "execution_count": 13,
   "metadata": {},
   "outputs": [
    {
     "data": {
      "image/png": "[encoded data removed]",
      "text/plain": [
       "<Figure size 576x576 with 2 Axes>"
      ]
     },
     "metadata": {
      "needs_background": "light"
     },
     "output_type": "display_data"
    }
   ],
   "source": [
    "# confusion matrix\n",
    "cm = confusion_matrix(Y_test.values, Y_predict2, labels = labels)\n",
    "cm_svc =pd.DataFrame(cm, index = labels, columns = labels)\n",
    "\n",
    "fig, ax =plt.subplots(figsize=(8,8))\n",
    "ax = sb.heatmap(cm_svc, fmt='d', annot=True, cmap= 'Blues', linewidths=.5, \\\n",
    "                cbar_kws={'label': 'Colorbar', 'orientation': 'horizontal'})\n",
    "ax.figure.axes[-1].xaxis.label.set_size(14)\n",
    "bottom, top = ax.get_ylim()\n",
    "ax.set_ylim(bottom + 0.5, top - 0.5)\n",
    "plt.xlabel(\"Facies Input\",  fontsize=14)\n",
    "plt.ylabel(\"Facies Predicted SVM\",  fontsize=14)\n",
    "plt.title('Confusion Matrix - SVM Model', fontsize=14)\n",
    "plt.show()"
   ]
  },
  {
   "cell_type": "markdown",
   "metadata": {},
   "source": [
    "### Threshold metrcis for model performance"
   ]
  },
  {
   "cell_type": "code",
   "execution_count": 14,
   "metadata": {},
   "outputs": [
    {
     "data": {
      "text/html": [
       "<div>\n",
       "<style scoped>\n",
       "    .dataframe tbody tr th:only-of-type {\n",
       "        vertical-align: middle;\n",
       "    }\n",
       "\n",
       "    .dataframe tbody tr th {\n",
       "        vertical-align: top;\n",
       "    }\n",
       "\n",
       "    .dataframe thead th {\n",
       "        text-align: right;\n",
       "    }\n",
       "</style>\n",
       "<table border=\"1\" class=\"dataframe\">\n",
       "  <thead>\n",
       "    <tr style=\"text-align: right;\">\n",
       "      <th></th>\n",
       "      <th>precision</th>\n",
       "      <th>recall</th>\n",
       "      <th>f1-score</th>\n",
       "      <th>support</th>\n",
       "    </tr>\n",
       "  </thead>\n",
       "  <tbody>\n",
       "    <tr>\n",
       "      <td>1</td>\n",
       "      <td>0.859155</td>\n",
       "      <td>0.968254</td>\n",
       "      <td>0.910448</td>\n",
       "      <td>126.000000</td>\n",
       "    </tr>\n",
       "    <tr>\n",
       "      <td>2</td>\n",
       "      <td>1.000000</td>\n",
       "      <td>0.500000</td>\n",
       "      <td>0.666667</td>\n",
       "      <td>2.000000</td>\n",
       "    </tr>\n",
       "    <tr>\n",
       "      <td>3</td>\n",
       "      <td>0.985816</td>\n",
       "      <td>0.952055</td>\n",
       "      <td>0.968641</td>\n",
       "      <td>146.000000</td>\n",
       "    </tr>\n",
       "    <tr>\n",
       "      <td>4</td>\n",
       "      <td>0.902256</td>\n",
       "      <td>0.967742</td>\n",
       "      <td>0.933852</td>\n",
       "      <td>124.000000</td>\n",
       "    </tr>\n",
       "    <tr>\n",
       "      <td>5</td>\n",
       "      <td>0.600000</td>\n",
       "      <td>0.600000</td>\n",
       "      <td>0.600000</td>\n",
       "      <td>15.000000</td>\n",
       "    </tr>\n",
       "    <tr>\n",
       "      <td>6</td>\n",
       "      <td>0.906977</td>\n",
       "      <td>0.661017</td>\n",
       "      <td>0.764706</td>\n",
       "      <td>59.000000</td>\n",
       "    </tr>\n",
       "    <tr>\n",
       "      <td>7</td>\n",
       "      <td>0.857143</td>\n",
       "      <td>1.000000</td>\n",
       "      <td>0.923077</td>\n",
       "      <td>6.000000</td>\n",
       "    </tr>\n",
       "    <tr>\n",
       "      <td>8</td>\n",
       "      <td>0.800000</td>\n",
       "      <td>0.571429</td>\n",
       "      <td>0.666667</td>\n",
       "      <td>14.000000</td>\n",
       "    </tr>\n",
       "    <tr>\n",
       "      <td>accuracy</td>\n",
       "      <td>0.902439</td>\n",
       "      <td>0.902439</td>\n",
       "      <td>0.902439</td>\n",
       "      <td>0.902439</td>\n",
       "    </tr>\n",
       "    <tr>\n",
       "      <td>macro avg</td>\n",
       "      <td>0.863918</td>\n",
       "      <td>0.777562</td>\n",
       "      <td>0.804257</td>\n",
       "      <td>492.000000</td>\n",
       "    </tr>\n",
       "    <tr>\n",
       "      <td>weighted avg</td>\n",
       "      <td>0.904302</td>\n",
       "      <td>0.902439</td>\n",
       "      <td>0.898899</td>\n",
       "      <td>492.000000</td>\n",
       "    </tr>\n",
       "  </tbody>\n",
       "</table>\n",
       "</div>"
      ],
      "text/plain": [
       "              precision    recall  f1-score     support\n",
       "1              0.859155  0.968254  0.910448  126.000000\n",
       "2              1.000000  0.500000  0.666667    2.000000\n",
       "3              0.985816  0.952055  0.968641  146.000000\n",
       "4              0.902256  0.967742  0.933852  124.000000\n",
       "5              0.600000  0.600000  0.600000   15.000000\n",
       "6              0.906977  0.661017  0.764706   59.000000\n",
       "7              0.857143  1.000000  0.923077    6.000000\n",
       "8              0.800000  0.571429  0.666667   14.000000\n",
       "accuracy       0.902439  0.902439  0.902439    0.902439\n",
       "macro avg      0.863918  0.777562  0.804257  492.000000\n",
       "weighted avg   0.904302  0.902439  0.898899  492.000000"
      ]
     },
     "execution_count": 14,
     "metadata": {},
     "output_type": "execute_result"
    }
   ],
   "source": [
    "Thm_single_svc = classification_report(Y_test.values, Y_predict2 , output_dict=True)\n",
    "df_Thm_svc = pd.DataFrame(Thm_single_svc).transpose()\n",
    "df_Thm_svc"
   ]
  },
  {
   "cell_type": "code",
   "execution_count": null,
   "metadata": {},
   "outputs": [],
   "source": []
  }
 ],
 "metadata": {
  "kernelspec": {
   "display_name": "Python 3",
   "language": "python",
   "name": "python3"
  },
  "language_info": {
   "codemirror_mode": {
    "name": "ipython",
    "version": 3
   },
   "file_extension": ".py",
   "mimetype": "text/x-python",
   "name": "python",
   "nbconvert_exporter": "python",
   "pygments_lexer": "ipython3",
   "version": "3.7.4"
  }
 },
 "nbformat": 4,
 "nbformat_minor": 2
}
